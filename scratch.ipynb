{
 "cells": [
  {
   "cell_type": "markdown",
   "id": "4413eab4",
   "metadata": {},
   "source": [
    "# NER based Semantic Search"
   ]
  },
  {
   "cell_type": "markdown",
   "id": "0b31838d",
   "metadata": {},
   "source": [
    "## Environment setup"
   ]
  },
  {
   "cell_type": "code",
   "execution_count": 1,
   "id": "96ef9f0f",
   "metadata": {},
   "outputs": [
    {
     "data": {
      "text/plain": [
       "True"
      ]
     },
     "execution_count": 1,
     "metadata": {},
     "output_type": "execute_result"
    }
   ],
   "source": [
    "#load env variables\n",
    "import os\n",
    "from dotenv import load_dotenv\n",
    "\n",
    "load_dotenv()\n"
   ]
  },
  {
   "cell_type": "markdown",
   "id": "721e2bde",
   "metadata": {},
   "source": [
    "## PineCone DB Setup"
   ]
  },
  {
   "cell_type": "code",
   "execution_count": null,
   "id": "c5a11960",
   "metadata": {},
   "outputs": [],
   "source": [
    "#PineCone client Setup\n",
    "from pinecone import Pinecone\n",
    "\n",
    "PineCone_API_KEY = os.getenv(\"PINECONE_API_KEY\")\n",
    "pc = Pinecone(api_key=PineCone_API_KEY)\n",
    "\n",
    "## Creating Index in PineCone\n",
    "#pc.create_index(name=\"medium-data\", dimension=768, spec= ServerlessSpec(cloud=\"aws\", region=\"us-east-1\"))"
   ]
  },
  {
   "cell_type": "code",
   "execution_count": 3,
   "id": "51f8896b",
   "metadata": {},
   "outputs": [
    {
     "name": "stderr",
     "output_type": "stream",
     "text": [
      "c:\\Users\\Pratik\\anaconda3\\envs\\sap-ner\\Lib\\site-packages\\tqdm\\auto.py:21: TqdmWarning: IProgress not found. Please update jupyter and ipywidgets. See https://ipywidgets.readthedocs.io/en/stable/user_install.html\n",
      "  from .autonotebook import tqdm as notebook_tqdm\n"
     ]
    }
   ],
   "source": [
    "#Set pointer to createindex\n",
    "idx = pc.Index(\"medium-data\")"
   ]
  },
  {
   "cell_type": "markdown",
   "id": "59f5549d",
   "metadata": {},
   "source": [
    "## NER Engine"
   ]
  },
  {
   "cell_type": "code",
   "execution_count": 4,
   "id": "2f9da3a9",
   "metadata": {},
   "outputs": [],
   "source": [
    "from transformers import AutoTokenizer, AutoModelForTokenClassification, pipeline\n",
    "import torch"
   ]
  },
  {
   "cell_type": "code",
   "execution_count": 5,
   "id": "183f149d",
   "metadata": {},
   "outputs": [
    {
     "name": "stderr",
     "output_type": "stream",
     "text": [
      "Some weights of the model checkpoint at dslim/bert-base-NER were not used when initializing BertForTokenClassification: ['bert.pooler.dense.bias', 'bert.pooler.dense.weight']\n",
      "- This IS expected if you are initializing BertForTokenClassification from the checkpoint of a model trained on another task or with another architecture (e.g. initializing a BertForSequenceClassification model from a BertForPreTraining model).\n",
      "- This IS NOT expected if you are initializing BertForTokenClassification from the checkpoint of a model that you expect to be exactly identical (initializing a BertForSequenceClassification model from a BertForSequenceClassification model).\n",
      "Device set to use cpu\n"
     ]
    }
   ],
   "source": [
    "#NER ENgine\n",
    "model_id = 'dslim/bert-base-NER'\n",
    "tokenizer = AutoTokenizer.from_pretrained(model_id)\n",
    "model = AutoModelForTokenClassification.from_pretrained(model_id)\n",
    "\n",
    "#NLP Pipeline\n",
    "nlp = pipeline('ner',\n",
    "                model=model,\n",
    "                tokenizer=tokenizer,\n",
    "                aggregation_strategy= 'max',\n",
    "                device = 'cpu')\n"
   ]
  },
  {
   "cell_type": "markdown",
   "id": "416e3101",
   "metadata": {},
   "source": [
    "## Retriever"
   ]
  },
  {
   "cell_type": "code",
   "execution_count": 6,
   "id": "df2ed647",
   "metadata": {},
   "outputs": [],
   "source": [
    "from sentence_transformers import SentenceTransformer"
   ]
  },
  {
   "cell_type": "code",
   "execution_count": 7,
   "id": "f8e3a556",
   "metadata": {},
   "outputs": [],
   "source": [
    "retriever = SentenceTransformer(\"flax-sentence-embeddings/all_datasets_v3_mpnet-base\")"
   ]
  },
  {
   "cell_type": "code",
   "execution_count": 8,
   "id": "41461ebb",
   "metadata": {},
   "outputs": [
    {
     "data": {
      "text/plain": [
       "SentenceTransformer(\n",
       "  (0): Transformer({'max_seq_length': 128, 'do_lower_case': False, 'architecture': 'MPNetModel'})\n",
       "  (1): Pooling({'word_embedding_dimension': 768, 'pooling_mode_cls_token': False, 'pooling_mode_mean_tokens': True, 'pooling_mode_max_tokens': False, 'pooling_mode_mean_sqrt_len_tokens': False, 'pooling_mode_weightedmean_tokens': False, 'pooling_mode_lasttoken': False, 'include_prompt': True})\n",
       "  (2): Normalize()\n",
       ")"
      ]
     },
     "execution_count": 8,
     "metadata": {},
     "output_type": "execute_result"
    }
   ],
   "source": [
    "retriever"
   ]
  },
  {
   "cell_type": "markdown",
   "id": "9de576d0",
   "metadata": {},
   "source": [
    "## Obtain Raw Data"
   ]
  },
  {
   "cell_type": "code",
   "execution_count": 9,
   "id": "793621ff",
   "metadata": {},
   "outputs": [],
   "source": [
    "from datasets import load_dataset\n",
    "import pandas as pd"
   ]
  },
  {
   "cell_type": "code",
   "execution_count": 10,
   "id": "1bb7f1ef",
   "metadata": {},
   "outputs": [
    {
     "data": {
      "text/plain": [
       "(10000, 7)"
      ]
     },
     "execution_count": 10,
     "metadata": {},
     "output_type": "execute_result"
    }
   ],
   "source": [
    "df = pd.read_csv(\"./medium_articles_10k.csv\")\n",
    "df.shape"
   ]
  },
  {
   "cell_type": "code",
   "execution_count": 11,
   "id": "5c2acc40",
   "metadata": {},
   "outputs": [
    {
     "data": {
      "text/html": [
       "<div>\n",
       "<style scoped>\n",
       "    .dataframe tbody tr th:only-of-type {\n",
       "        vertical-align: middle;\n",
       "    }\n",
       "\n",
       "    .dataframe tbody tr th {\n",
       "        vertical-align: top;\n",
       "    }\n",
       "\n",
       "    .dataframe thead th {\n",
       "        text-align: right;\n",
       "    }\n",
       "</style>\n",
       "<table border=\"1\" class=\"dataframe\">\n",
       "  <thead>\n",
       "    <tr style=\"text-align: right;\">\n",
       "      <th></th>\n",
       "      <th>title</th>\n",
       "      <th>text</th>\n",
       "      <th>url</th>\n",
       "      <th>authors</th>\n",
       "      <th>timestamp</th>\n",
       "      <th>tags</th>\n",
       "    </tr>\n",
       "  </thead>\n",
       "  <tbody>\n",
       "    <tr>\n",
       "      <th>0</th>\n",
       "      <td>Mental Note Vol. 24</td>\n",
       "      <td>Photo by Josh Riemer on Unsplash\\n\\nMerry Chri...</td>\n",
       "      <td>https://medium.com/invisible-illness/mental-no...</td>\n",
       "      <td>['Ryan Fan']</td>\n",
       "      <td>2020-12-26 03:38:10.479000+00:00</td>\n",
       "      <td>['Mental Health', 'Health', 'Psychology', 'Sci...</td>\n",
       "    </tr>\n",
       "    <tr>\n",
       "      <th>1</th>\n",
       "      <td>Your Brain On Coronavirus</td>\n",
       "      <td>Your Brain On Coronavirus\\n\\nA guide to the cu...</td>\n",
       "      <td>https://medium.com/age-of-awareness/how-the-pa...</td>\n",
       "      <td>['Simon Spichak']</td>\n",
       "      <td>2020-09-23 22:10:17.126000+00:00</td>\n",
       "      <td>['Mental Health', 'Coronavirus', 'Science', 'P...</td>\n",
       "    </tr>\n",
       "    <tr>\n",
       "      <th>2</th>\n",
       "      <td>Mind Your Nose</td>\n",
       "      <td>Mind Your Nose\\n\\nHow smell training can chang...</td>\n",
       "      <td>https://medium.com/neodotlife/mind-your-nose-f...</td>\n",
       "      <td>[]</td>\n",
       "      <td>2020-10-10 20:17:37.132000+00:00</td>\n",
       "      <td>['Biotechnology', 'Neuroscience', 'Brain', 'We...</td>\n",
       "    </tr>\n",
       "    <tr>\n",
       "      <th>3</th>\n",
       "      <td>The 4 Purposes of Dreams</td>\n",
       "      <td>Passionate about the synergy between science a...</td>\n",
       "      <td>https://medium.com/science-for-real/the-4-purp...</td>\n",
       "      <td>['Eshan Samaranayake']</td>\n",
       "      <td>2020-12-21 16:05:19.524000+00:00</td>\n",
       "      <td>['Health', 'Neuroscience', 'Mental Health', 'P...</td>\n",
       "    </tr>\n",
       "    <tr>\n",
       "      <th>4</th>\n",
       "      <td>Surviving a Rod Through the Head</td>\n",
       "      <td>You’ve heard of him, haven’t you? Phineas Gage...</td>\n",
       "      <td>https://medium.com/live-your-life-on-purpose/s...</td>\n",
       "      <td>['Rishav Sinha']</td>\n",
       "      <td>2020-02-26 00:01:01.576000+00:00</td>\n",
       "      <td>['Brain', 'Health', 'Development', 'Psychology...</td>\n",
       "    </tr>\n",
       "  </tbody>\n",
       "</table>\n",
       "</div>"
      ],
      "text/plain": [
       "                              title  \\\n",
       "0               Mental Note Vol. 24   \n",
       "1         Your Brain On Coronavirus   \n",
       "2                    Mind Your Nose   \n",
       "3          The 4 Purposes of Dreams   \n",
       "4  Surviving a Rod Through the Head   \n",
       "\n",
       "                                                text  \\\n",
       "0  Photo by Josh Riemer on Unsplash\\n\\nMerry Chri...   \n",
       "1  Your Brain On Coronavirus\\n\\nA guide to the cu...   \n",
       "2  Mind Your Nose\\n\\nHow smell training can chang...   \n",
       "3  Passionate about the synergy between science a...   \n",
       "4  You’ve heard of him, haven’t you? Phineas Gage...   \n",
       "\n",
       "                                                 url                 authors  \\\n",
       "0  https://medium.com/invisible-illness/mental-no...            ['Ryan Fan']   \n",
       "1  https://medium.com/age-of-awareness/how-the-pa...       ['Simon Spichak']   \n",
       "2  https://medium.com/neodotlife/mind-your-nose-f...                      []   \n",
       "3  https://medium.com/science-for-real/the-4-purp...  ['Eshan Samaranayake']   \n",
       "4  https://medium.com/live-your-life-on-purpose/s...        ['Rishav Sinha']   \n",
       "\n",
       "                          timestamp  \\\n",
       "0  2020-12-26 03:38:10.479000+00:00   \n",
       "1  2020-09-23 22:10:17.126000+00:00   \n",
       "2  2020-10-10 20:17:37.132000+00:00   \n",
       "3  2020-12-21 16:05:19.524000+00:00   \n",
       "4  2020-02-26 00:01:01.576000+00:00   \n",
       "\n",
       "                                                tags  \n",
       "0  ['Mental Health', 'Health', 'Psychology', 'Sci...  \n",
       "1  ['Mental Health', 'Coronavirus', 'Science', 'P...  \n",
       "2  ['Biotechnology', 'Neuroscience', 'Brain', 'We...  \n",
       "3  ['Health', 'Neuroscience', 'Mental Health', 'P...  \n",
       "4  ['Brain', 'Health', 'Development', 'Psychology...  "
      ]
     },
     "execution_count": 11,
     "metadata": {},
     "output_type": "execute_result"
    }
   ],
   "source": [
    "df = df.drop([\"Unnamed: 0\"], axis = 1)\n",
    "df.dropna(inplace=True)\n",
    "df.head()"
   ]
  },
  {
   "cell_type": "code",
   "execution_count": 12,
   "id": "99b0eeb6",
   "metadata": {},
   "outputs": [],
   "source": [
    "df['text_extended'] = df['title'] + '.' + df['text'].str[:1000]"
   ]
  },
  {
   "cell_type": "code",
   "execution_count": 13,
   "id": "7fb2431b",
   "metadata": {},
   "outputs": [
    {
     "data": {
      "text/html": [
       "<div>\n",
       "<style scoped>\n",
       "    .dataframe tbody tr th:only-of-type {\n",
       "        vertical-align: middle;\n",
       "    }\n",
       "\n",
       "    .dataframe tbody tr th {\n",
       "        vertical-align: top;\n",
       "    }\n",
       "\n",
       "    .dataframe thead th {\n",
       "        text-align: right;\n",
       "    }\n",
       "</style>\n",
       "<table border=\"1\" class=\"dataframe\">\n",
       "  <thead>\n",
       "    <tr style=\"text-align: right;\">\n",
       "      <th></th>\n",
       "      <th>title</th>\n",
       "      <th>text</th>\n",
       "      <th>url</th>\n",
       "      <th>authors</th>\n",
       "      <th>timestamp</th>\n",
       "      <th>tags</th>\n",
       "      <th>text_extended</th>\n",
       "    </tr>\n",
       "  </thead>\n",
       "  <tbody>\n",
       "    <tr>\n",
       "      <th>0</th>\n",
       "      <td>Mental Note Vol. 24</td>\n",
       "      <td>Photo by Josh Riemer on Unsplash\\n\\nMerry Chri...</td>\n",
       "      <td>https://medium.com/invisible-illness/mental-no...</td>\n",
       "      <td>['Ryan Fan']</td>\n",
       "      <td>2020-12-26 03:38:10.479000+00:00</td>\n",
       "      <td>['Mental Health', 'Health', 'Psychology', 'Sci...</td>\n",
       "      <td>Mental Note Vol. 24.Photo by Josh Riemer on Un...</td>\n",
       "    </tr>\n",
       "    <tr>\n",
       "      <th>1</th>\n",
       "      <td>Your Brain On Coronavirus</td>\n",
       "      <td>Your Brain On Coronavirus\\n\\nA guide to the cu...</td>\n",
       "      <td>https://medium.com/age-of-awareness/how-the-pa...</td>\n",
       "      <td>['Simon Spichak']</td>\n",
       "      <td>2020-09-23 22:10:17.126000+00:00</td>\n",
       "      <td>['Mental Health', 'Coronavirus', 'Science', 'P...</td>\n",
       "      <td>Your Brain On Coronavirus.Your Brain On Corona...</td>\n",
       "    </tr>\n",
       "    <tr>\n",
       "      <th>2</th>\n",
       "      <td>Mind Your Nose</td>\n",
       "      <td>Mind Your Nose\\n\\nHow smell training can chang...</td>\n",
       "      <td>https://medium.com/neodotlife/mind-your-nose-f...</td>\n",
       "      <td>[]</td>\n",
       "      <td>2020-10-10 20:17:37.132000+00:00</td>\n",
       "      <td>['Biotechnology', 'Neuroscience', 'Brain', 'We...</td>\n",
       "      <td>Mind Your Nose.Mind Your Nose\\n\\nHow smell tra...</td>\n",
       "    </tr>\n",
       "    <tr>\n",
       "      <th>3</th>\n",
       "      <td>The 4 Purposes of Dreams</td>\n",
       "      <td>Passionate about the synergy between science a...</td>\n",
       "      <td>https://medium.com/science-for-real/the-4-purp...</td>\n",
       "      <td>['Eshan Samaranayake']</td>\n",
       "      <td>2020-12-21 16:05:19.524000+00:00</td>\n",
       "      <td>['Health', 'Neuroscience', 'Mental Health', 'P...</td>\n",
       "      <td>The 4 Purposes of Dreams.Passionate about the ...</td>\n",
       "    </tr>\n",
       "    <tr>\n",
       "      <th>4</th>\n",
       "      <td>Surviving a Rod Through the Head</td>\n",
       "      <td>You’ve heard of him, haven’t you? Phineas Gage...</td>\n",
       "      <td>https://medium.com/live-your-life-on-purpose/s...</td>\n",
       "      <td>['Rishav Sinha']</td>\n",
       "      <td>2020-02-26 00:01:01.576000+00:00</td>\n",
       "      <td>['Brain', 'Health', 'Development', 'Psychology...</td>\n",
       "      <td>Surviving a Rod Through the Head.You’ve heard ...</td>\n",
       "    </tr>\n",
       "  </tbody>\n",
       "</table>\n",
       "</div>"
      ],
      "text/plain": [
       "                              title  \\\n",
       "0               Mental Note Vol. 24   \n",
       "1         Your Brain On Coronavirus   \n",
       "2                    Mind Your Nose   \n",
       "3          The 4 Purposes of Dreams   \n",
       "4  Surviving a Rod Through the Head   \n",
       "\n",
       "                                                text  \\\n",
       "0  Photo by Josh Riemer on Unsplash\\n\\nMerry Chri...   \n",
       "1  Your Brain On Coronavirus\\n\\nA guide to the cu...   \n",
       "2  Mind Your Nose\\n\\nHow smell training can chang...   \n",
       "3  Passionate about the synergy between science a...   \n",
       "4  You’ve heard of him, haven’t you? Phineas Gage...   \n",
       "\n",
       "                                                 url                 authors  \\\n",
       "0  https://medium.com/invisible-illness/mental-no...            ['Ryan Fan']   \n",
       "1  https://medium.com/age-of-awareness/how-the-pa...       ['Simon Spichak']   \n",
       "2  https://medium.com/neodotlife/mind-your-nose-f...                      []   \n",
       "3  https://medium.com/science-for-real/the-4-purp...  ['Eshan Samaranayake']   \n",
       "4  https://medium.com/live-your-life-on-purpose/s...        ['Rishav Sinha']   \n",
       "\n",
       "                          timestamp  \\\n",
       "0  2020-12-26 03:38:10.479000+00:00   \n",
       "1  2020-09-23 22:10:17.126000+00:00   \n",
       "2  2020-10-10 20:17:37.132000+00:00   \n",
       "3  2020-12-21 16:05:19.524000+00:00   \n",
       "4  2020-02-26 00:01:01.576000+00:00   \n",
       "\n",
       "                                                tags  \\\n",
       "0  ['Mental Health', 'Health', 'Psychology', 'Sci...   \n",
       "1  ['Mental Health', 'Coronavirus', 'Science', 'P...   \n",
       "2  ['Biotechnology', 'Neuroscience', 'Brain', 'We...   \n",
       "3  ['Health', 'Neuroscience', 'Mental Health', 'P...   \n",
       "4  ['Brain', 'Health', 'Development', 'Psychology...   \n",
       "\n",
       "                                       text_extended  \n",
       "0  Mental Note Vol. 24.Photo by Josh Riemer on Un...  \n",
       "1  Your Brain On Coronavirus.Your Brain On Corona...  \n",
       "2  Mind Your Nose.Mind Your Nose\\n\\nHow smell tra...  \n",
       "3  The 4 Purposes of Dreams.Passionate about the ...  \n",
       "4  Surviving a Rod Through the Head.You’ve heard ...  "
      ]
     },
     "execution_count": 13,
     "metadata": {},
     "output_type": "execute_result"
    }
   ],
   "source": [
    "df.head()"
   ]
  },
  {
   "cell_type": "markdown",
   "id": "85cc5f4d",
   "metadata": {},
   "source": [
    "## Extract NER"
   ]
  },
  {
   "cell_type": "code",
   "execution_count": 14,
   "id": "01eaeec7",
   "metadata": {},
   "outputs": [],
   "source": [
    "df_batch = df['text_extended'].iloc[0:10]"
   ]
  },
  {
   "cell_type": "code",
   "execution_count": 15,
   "id": "2f2894ec",
   "metadata": {},
   "outputs": [
    {
     "data": {
      "text/plain": [
       "0    Mental Note Vol. 24.Photo by Josh Riemer on Un...\n",
       "1    Your Brain On Coronavirus.Your Brain On Corona...\n",
       "2    Mind Your Nose.Mind Your Nose\\n\\nHow smell tra...\n",
       "3    The 4 Purposes of Dreams.Passionate about the ...\n",
       "4    Surviving a Rod Through the Head.You’ve heard ...\n",
       "5    Mentally, Young Adults Are Suffering Most From...\n",
       "6    How to Turn Your Popular Blog Series Into a Be...\n",
       "7    Dr Faisal Dar — Pioneer of Liver Transplantati...\n",
       "8    Sunlight — The Natural Supplement For Our Ment...\n",
       "9    Occam’s dice.Occam’s dice\\n\\nDistrusting biolo...\n",
       "Name: text_extended, dtype: object"
      ]
     },
     "execution_count": 15,
     "metadata": {},
     "output_type": "execute_result"
    }
   ],
   "source": [
    "df_batch"
   ]
  },
  {
   "cell_type": "code",
   "execution_count": 16,
   "id": "92f4c178",
   "metadata": {},
   "outputs": [],
   "source": [
    "def extract_entities(list_of_text):\n",
    "    entities = []\n",
    "    for doc in list_of_text:\n",
    "        entities.append([item['word'] for item in nlp(doc)])\n",
    "\n",
    "    return entities"
   ]
  },
  {
   "cell_type": "markdown",
   "id": "756d129a",
   "metadata": {},
   "source": [
    "## Batch Vector embeddings"
   ]
  },
  {
   "cell_type": "code",
   "execution_count": 17,
   "id": "e1f4b2bd",
   "metadata": {},
   "outputs": [],
   "source": [
    "emb = retriever.encode(df_batch).tolist()"
   ]
  },
  {
   "cell_type": "markdown",
   "id": "70c89b8d",
   "metadata": {},
   "source": [
    "## Upsert Data into DB"
   ]
  },
  {
   "cell_type": "code",
   "execution_count": 22,
   "id": "93e850c8",
   "metadata": {},
   "outputs": [
    {
     "name": "stderr",
     "output_type": "stream",
     "text": [
      "C:\\Users\\Pratik\\AppData\\Local\\Temp\\ipykernel_4772\\3164686748.py:17: SettingWithCopyWarning: \n",
      "A value is trying to be set on a copy of a slice from a DataFrame.\n",
      "Try using .loc[row_indexer,col_indexer] = value instead\n",
      "\n",
      "See the caveats in the documentation: https://pandas.pydata.org/pandas-docs/stable/user_guide/indexing.html#returning-a-view-versus-a-copy\n",
      "  df_batch['ner'] = [list(set(entity)) for entity in entities]\n",
      "C:\\Users\\Pratik\\AppData\\Local\\Temp\\ipykernel_4772\\3164686748.py:17: SettingWithCopyWarning: \n",
      "A value is trying to be set on a copy of a slice from a DataFrame.\n",
      "Try using .loc[row_indexer,col_indexer] = value instead\n",
      "\n",
      "See the caveats in the documentation: https://pandas.pydata.org/pandas-docs/stable/user_guide/indexing.html#returning-a-view-versus-a-copy\n",
      "  df_batch['ner'] = [list(set(entity)) for entity in entities]\n",
      "C:\\Users\\Pratik\\AppData\\Local\\Temp\\ipykernel_4772\\3164686748.py:17: SettingWithCopyWarning: \n",
      "A value is trying to be set on a copy of a slice from a DataFrame.\n",
      "Try using .loc[row_indexer,col_indexer] = value instead\n",
      "\n",
      "See the caveats in the documentation: https://pandas.pydata.org/pandas-docs/stable/user_guide/indexing.html#returning-a-view-versus-a-copy\n",
      "  df_batch['ner'] = [list(set(entity)) for entity in entities]\n",
      "C:\\Users\\Pratik\\AppData\\Local\\Temp\\ipykernel_4772\\3164686748.py:17: SettingWithCopyWarning: \n",
      "A value is trying to be set on a copy of a slice from a DataFrame.\n",
      "Try using .loc[row_indexer,col_indexer] = value instead\n",
      "\n",
      "See the caveats in the documentation: https://pandas.pydata.org/pandas-docs/stable/user_guide/indexing.html#returning-a-view-versus-a-copy\n",
      "  df_batch['ner'] = [list(set(entity)) for entity in entities]\n",
      "C:\\Users\\Pratik\\AppData\\Local\\Temp\\ipykernel_4772\\3164686748.py:17: SettingWithCopyWarning: \n",
      "A value is trying to be set on a copy of a slice from a DataFrame.\n",
      "Try using .loc[row_indexer,col_indexer] = value instead\n",
      "\n",
      "See the caveats in the documentation: https://pandas.pydata.org/pandas-docs/stable/user_guide/indexing.html#returning-a-view-versus-a-copy\n",
      "  df_batch['ner'] = [list(set(entity)) for entity in entities]\n",
      "C:\\Users\\Pratik\\AppData\\Local\\Temp\\ipykernel_4772\\3164686748.py:17: SettingWithCopyWarning: \n",
      "A value is trying to be set on a copy of a slice from a DataFrame.\n",
      "Try using .loc[row_indexer,col_indexer] = value instead\n",
      "\n",
      "See the caveats in the documentation: https://pandas.pydata.org/pandas-docs/stable/user_guide/indexing.html#returning-a-view-versus-a-copy\n",
      "  df_batch['ner'] = [list(set(entity)) for entity in entities]\n",
      "C:\\Users\\Pratik\\AppData\\Local\\Temp\\ipykernel_4772\\3164686748.py:17: SettingWithCopyWarning: \n",
      "A value is trying to be set on a copy of a slice from a DataFrame.\n",
      "Try using .loc[row_indexer,col_indexer] = value instead\n",
      "\n",
      "See the caveats in the documentation: https://pandas.pydata.org/pandas-docs/stable/user_guide/indexing.html#returning-a-view-versus-a-copy\n",
      "  df_batch['ner'] = [list(set(entity)) for entity in entities]\n",
      "C:\\Users\\Pratik\\AppData\\Local\\Temp\\ipykernel_4772\\3164686748.py:17: SettingWithCopyWarning: \n",
      "A value is trying to be set on a copy of a slice from a DataFrame.\n",
      "Try using .loc[row_indexer,col_indexer] = value instead\n",
      "\n",
      "See the caveats in the documentation: https://pandas.pydata.org/pandas-docs/stable/user_guide/indexing.html#returning-a-view-versus-a-copy\n",
      "  df_batch['ner'] = [list(set(entity)) for entity in entities]\n",
      "C:\\Users\\Pratik\\AppData\\Local\\Temp\\ipykernel_4772\\3164686748.py:17: SettingWithCopyWarning: \n",
      "A value is trying to be set on a copy of a slice from a DataFrame.\n",
      "Try using .loc[row_indexer,col_indexer] = value instead\n",
      "\n",
      "See the caveats in the documentation: https://pandas.pydata.org/pandas-docs/stable/user_guide/indexing.html#returning-a-view-versus-a-copy\n",
      "  df_batch['ner'] = [list(set(entity)) for entity in entities]\n",
      "C:\\Users\\Pratik\\AppData\\Local\\Temp\\ipykernel_4772\\3164686748.py:17: SettingWithCopyWarning: \n",
      "A value is trying to be set on a copy of a slice from a DataFrame.\n",
      "Try using .loc[row_indexer,col_indexer] = value instead\n",
      "\n",
      "See the caveats in the documentation: https://pandas.pydata.org/pandas-docs/stable/user_guide/indexing.html#returning-a-view-versus-a-copy\n",
      "  df_batch['ner'] = [list(set(entity)) for entity in entities]\n",
      "C:\\Users\\Pratik\\AppData\\Local\\Temp\\ipykernel_4772\\3164686748.py:17: SettingWithCopyWarning: \n",
      "A value is trying to be set on a copy of a slice from a DataFrame.\n",
      "Try using .loc[row_indexer,col_indexer] = value instead\n",
      "\n",
      "See the caveats in the documentation: https://pandas.pydata.org/pandas-docs/stable/user_guide/indexing.html#returning-a-view-versus-a-copy\n",
      "  df_batch['ner'] = [list(set(entity)) for entity in entities]\n",
      "C:\\Users\\Pratik\\AppData\\Local\\Temp\\ipykernel_4772\\3164686748.py:17: SettingWithCopyWarning: \n",
      "A value is trying to be set on a copy of a slice from a DataFrame.\n",
      "Try using .loc[row_indexer,col_indexer] = value instead\n",
      "\n",
      "See the caveats in the documentation: https://pandas.pydata.org/pandas-docs/stable/user_guide/indexing.html#returning-a-view-versus-a-copy\n",
      "  df_batch['ner'] = [list(set(entity)) for entity in entities]\n",
      "C:\\Users\\Pratik\\AppData\\Local\\Temp\\ipykernel_4772\\3164686748.py:17: SettingWithCopyWarning: \n",
      "A value is trying to be set on a copy of a slice from a DataFrame.\n",
      "Try using .loc[row_indexer,col_indexer] = value instead\n",
      "\n",
      "See the caveats in the documentation: https://pandas.pydata.org/pandas-docs/stable/user_guide/indexing.html#returning-a-view-versus-a-copy\n",
      "  df_batch['ner'] = [list(set(entity)) for entity in entities]\n",
      "C:\\Users\\Pratik\\AppData\\Local\\Temp\\ipykernel_4772\\3164686748.py:17: SettingWithCopyWarning: \n",
      "A value is trying to be set on a copy of a slice from a DataFrame.\n",
      "Try using .loc[row_indexer,col_indexer] = value instead\n",
      "\n",
      "See the caveats in the documentation: https://pandas.pydata.org/pandas-docs/stable/user_guide/indexing.html#returning-a-view-versus-a-copy\n",
      "  df_batch['ner'] = [list(set(entity)) for entity in entities]\n",
      "C:\\Users\\Pratik\\AppData\\Local\\Temp\\ipykernel_4772\\3164686748.py:17: SettingWithCopyWarning: \n",
      "A value is trying to be set on a copy of a slice from a DataFrame.\n",
      "Try using .loc[row_indexer,col_indexer] = value instead\n",
      "\n",
      "See the caveats in the documentation: https://pandas.pydata.org/pandas-docs/stable/user_guide/indexing.html#returning-a-view-versus-a-copy\n",
      "  df_batch['ner'] = [list(set(entity)) for entity in entities]\n",
      "C:\\Users\\Pratik\\AppData\\Local\\Temp\\ipykernel_4772\\3164686748.py:17: SettingWithCopyWarning: \n",
      "A value is trying to be set on a copy of a slice from a DataFrame.\n",
      "Try using .loc[row_indexer,col_indexer] = value instead\n",
      "\n",
      "See the caveats in the documentation: https://pandas.pydata.org/pandas-docs/stable/user_guide/indexing.html#returning-a-view-versus-a-copy\n",
      "  df_batch['ner'] = [list(set(entity)) for entity in entities]\n",
      "C:\\Users\\Pratik\\AppData\\Local\\Temp\\ipykernel_4772\\3164686748.py:17: SettingWithCopyWarning: \n",
      "A value is trying to be set on a copy of a slice from a DataFrame.\n",
      "Try using .loc[row_indexer,col_indexer] = value instead\n",
      "\n",
      "See the caveats in the documentation: https://pandas.pydata.org/pandas-docs/stable/user_guide/indexing.html#returning-a-view-versus-a-copy\n",
      "  df_batch['ner'] = [list(set(entity)) for entity in entities]\n",
      "C:\\Users\\Pratik\\AppData\\Local\\Temp\\ipykernel_4772\\3164686748.py:17: SettingWithCopyWarning: \n",
      "A value is trying to be set on a copy of a slice from a DataFrame.\n",
      "Try using .loc[row_indexer,col_indexer] = value instead\n",
      "\n",
      "See the caveats in the documentation: https://pandas.pydata.org/pandas-docs/stable/user_guide/indexing.html#returning-a-view-versus-a-copy\n",
      "  df_batch['ner'] = [list(set(entity)) for entity in entities]\n",
      "C:\\Users\\Pratik\\AppData\\Local\\Temp\\ipykernel_4772\\3164686748.py:17: SettingWithCopyWarning: \n",
      "A value is trying to be set on a copy of a slice from a DataFrame.\n",
      "Try using .loc[row_indexer,col_indexer] = value instead\n",
      "\n",
      "See the caveats in the documentation: https://pandas.pydata.org/pandas-docs/stable/user_guide/indexing.html#returning-a-view-versus-a-copy\n",
      "  df_batch['ner'] = [list(set(entity)) for entity in entities]\n",
      "C:\\Users\\Pratik\\AppData\\Local\\Temp\\ipykernel_4772\\3164686748.py:17: SettingWithCopyWarning: \n",
      "A value is trying to be set on a copy of a slice from a DataFrame.\n",
      "Try using .loc[row_indexer,col_indexer] = value instead\n",
      "\n",
      "See the caveats in the documentation: https://pandas.pydata.org/pandas-docs/stable/user_guide/indexing.html#returning-a-view-versus-a-copy\n",
      "  df_batch['ner'] = [list(set(entity)) for entity in entities]\n",
      "C:\\Users\\Pratik\\AppData\\Local\\Temp\\ipykernel_4772\\3164686748.py:17: SettingWithCopyWarning: \n",
      "A value is trying to be set on a copy of a slice from a DataFrame.\n",
      "Try using .loc[row_indexer,col_indexer] = value instead\n",
      "\n",
      "See the caveats in the documentation: https://pandas.pydata.org/pandas-docs/stable/user_guide/indexing.html#returning-a-view-versus-a-copy\n",
      "  df_batch['ner'] = [list(set(entity)) for entity in entities]\n",
      "C:\\Users\\Pratik\\AppData\\Local\\Temp\\ipykernel_4772\\3164686748.py:17: SettingWithCopyWarning: \n",
      "A value is trying to be set on a copy of a slice from a DataFrame.\n",
      "Try using .loc[row_indexer,col_indexer] = value instead\n",
      "\n",
      "See the caveats in the documentation: https://pandas.pydata.org/pandas-docs/stable/user_guide/indexing.html#returning-a-view-versus-a-copy\n",
      "  df_batch['ner'] = [list(set(entity)) for entity in entities]\n",
      "C:\\Users\\Pratik\\AppData\\Local\\Temp\\ipykernel_4772\\3164686748.py:17: SettingWithCopyWarning: \n",
      "A value is trying to be set on a copy of a slice from a DataFrame.\n",
      "Try using .loc[row_indexer,col_indexer] = value instead\n",
      "\n",
      "See the caveats in the documentation: https://pandas.pydata.org/pandas-docs/stable/user_guide/indexing.html#returning-a-view-versus-a-copy\n",
      "  df_batch['ner'] = [list(set(entity)) for entity in entities]\n",
      "C:\\Users\\Pratik\\AppData\\Local\\Temp\\ipykernel_4772\\3164686748.py:17: SettingWithCopyWarning: \n",
      "A value is trying to be set on a copy of a slice from a DataFrame.\n",
      "Try using .loc[row_indexer,col_indexer] = value instead\n",
      "\n",
      "See the caveats in the documentation: https://pandas.pydata.org/pandas-docs/stable/user_guide/indexing.html#returning-a-view-versus-a-copy\n",
      "  df_batch['ner'] = [list(set(entity)) for entity in entities]\n",
      "C:\\Users\\Pratik\\AppData\\Local\\Temp\\ipykernel_4772\\3164686748.py:17: SettingWithCopyWarning: \n",
      "A value is trying to be set on a copy of a slice from a DataFrame.\n",
      "Try using .loc[row_indexer,col_indexer] = value instead\n",
      "\n",
      "See the caveats in the documentation: https://pandas.pydata.org/pandas-docs/stable/user_guide/indexing.html#returning-a-view-versus-a-copy\n",
      "  df_batch['ner'] = [list(set(entity)) for entity in entities]\n",
      "C:\\Users\\Pratik\\AppData\\Local\\Temp\\ipykernel_4772\\3164686748.py:17: SettingWithCopyWarning: \n",
      "A value is trying to be set on a copy of a slice from a DataFrame.\n",
      "Try using .loc[row_indexer,col_indexer] = value instead\n",
      "\n",
      "See the caveats in the documentation: https://pandas.pydata.org/pandas-docs/stable/user_guide/indexing.html#returning-a-view-versus-a-copy\n",
      "  df_batch['ner'] = [list(set(entity)) for entity in entities]\n",
      "C:\\Users\\Pratik\\AppData\\Local\\Temp\\ipykernel_4772\\3164686748.py:17: SettingWithCopyWarning: \n",
      "A value is trying to be set on a copy of a slice from a DataFrame.\n",
      "Try using .loc[row_indexer,col_indexer] = value instead\n",
      "\n",
      "See the caveats in the documentation: https://pandas.pydata.org/pandas-docs/stable/user_guide/indexing.html#returning-a-view-versus-a-copy\n",
      "  df_batch['ner'] = [list(set(entity)) for entity in entities]\n",
      "C:\\Users\\Pratik\\AppData\\Local\\Temp\\ipykernel_4772\\3164686748.py:17: SettingWithCopyWarning: \n",
      "A value is trying to be set on a copy of a slice from a DataFrame.\n",
      "Try using .loc[row_indexer,col_indexer] = value instead\n",
      "\n",
      "See the caveats in the documentation: https://pandas.pydata.org/pandas-docs/stable/user_guide/indexing.html#returning-a-view-versus-a-copy\n",
      "  df_batch['ner'] = [list(set(entity)) for entity in entities]\n",
      "C:\\Users\\Pratik\\AppData\\Local\\Temp\\ipykernel_4772\\3164686748.py:17: SettingWithCopyWarning: \n",
      "A value is trying to be set on a copy of a slice from a DataFrame.\n",
      "Try using .loc[row_indexer,col_indexer] = value instead\n",
      "\n",
      "See the caveats in the documentation: https://pandas.pydata.org/pandas-docs/stable/user_guide/indexing.html#returning-a-view-versus-a-copy\n",
      "  df_batch['ner'] = [list(set(entity)) for entity in entities]\n",
      "C:\\Users\\Pratik\\AppData\\Local\\Temp\\ipykernel_4772\\3164686748.py:17: SettingWithCopyWarning: \n",
      "A value is trying to be set on a copy of a slice from a DataFrame.\n",
      "Try using .loc[row_indexer,col_indexer] = value instead\n",
      "\n",
      "See the caveats in the documentation: https://pandas.pydata.org/pandas-docs/stable/user_guide/indexing.html#returning-a-view-versus-a-copy\n",
      "  df_batch['ner'] = [list(set(entity)) for entity in entities]\n",
      "C:\\Users\\Pratik\\AppData\\Local\\Temp\\ipykernel_4772\\3164686748.py:17: SettingWithCopyWarning: \n",
      "A value is trying to be set on a copy of a slice from a DataFrame.\n",
      "Try using .loc[row_indexer,col_indexer] = value instead\n",
      "\n",
      "See the caveats in the documentation: https://pandas.pydata.org/pandas-docs/stable/user_guide/indexing.html#returning-a-view-versus-a-copy\n",
      "  df_batch['ner'] = [list(set(entity)) for entity in entities]\n",
      "C:\\Users\\Pratik\\AppData\\Local\\Temp\\ipykernel_4772\\3164686748.py:17: SettingWithCopyWarning: \n",
      "A value is trying to be set on a copy of a slice from a DataFrame.\n",
      "Try using .loc[row_indexer,col_indexer] = value instead\n",
      "\n",
      "See the caveats in the documentation: https://pandas.pydata.org/pandas-docs/stable/user_guide/indexing.html#returning-a-view-versus-a-copy\n",
      "  df_batch['ner'] = [list(set(entity)) for entity in entities]\n"
     ]
    }
   ],
   "source": [
    "from tqdm.auto import tqdm\n",
    "\n",
    "batch_size = 64\n",
    "for i in range(0, 2000, batch_size):\n",
    "    i_end = min(i+batch_size, len(df))\n",
    "\n",
    "    #batch of data\n",
    "    df_batch = df.iloc[i: i_end]\n",
    "\n",
    "    #Embeddings\n",
    "    emb = retriever.encode(df_batch['text_extended'].tolist()).tolist()\n",
    "\n",
    "    #NER Extraction\n",
    "    entities = extract_entities(df_batch['text_extended'].tolist())\n",
    "    \n",
    "    #Remove duplicates for each entities list\n",
    "    df_batch['ner'] = [list(set(entity)) for entity in entities]\n",
    "\n",
    "    #Create metadata\n",
    "    df_batch = df_batch.drop(['text'], axis = 1)\n",
    "    meta_data = df_batch.to_dict(orient='records')\n",
    "\n",
    "    #Create_indices\n",
    "    ids = [str(id) for id in range(i, i_end)]\n",
    "\n",
    "    #Upsert\n",
    "    vectors_to_upsert = list(zip(ids, emb, meta_data))\n",
    "    idx.upsert(vectors=vectors_to_upsert)"
   ]
  },
  {
   "cell_type": "code",
   "execution_count": 23,
   "id": "c21ff023",
   "metadata": {},
   "outputs": [
    {
     "data": {
      "text/plain": [
       "{'dimension': 768,\n",
       " 'index_fullness': 0.0,\n",
       " 'metric': 'cosine',\n",
       " 'namespaces': {'': {'vector_count': 2048}},\n",
       " 'total_vector_count': 2048,\n",
       " 'vector_type': 'dense'}"
      ]
     },
     "execution_count": 23,
     "metadata": {},
     "output_type": "execute_result"
    }
   ],
   "source": [
    "idx.describe_index_stats()"
   ]
  },
  {
   "cell_type": "markdown",
   "id": "3845bb31",
   "metadata": {},
   "source": [
    "## Semantic Search - Querying"
   ]
  },
  {
   "cell_type": "code",
   "execution_count": 28,
   "id": "5f31e2a3",
   "metadata": {},
   "outputs": [
    {
     "data": {
      "text/plain": [
       "['Earth']"
      ]
     },
     "execution_count": 28,
     "metadata": {},
     "output_type": "execute_result"
    }
   ],
   "source": [
    "query = \"We live on planet Earth\"\n",
    "#Embedded Query Vector\n",
    "emb_qx = retriever.encode(query).tolist()\n",
    "\n",
    "ne = extract_entities([query])[0]\n",
    "ne"
   ]
  },
  {
   "cell_type": "code",
   "execution_count": 31,
   "id": "4ac6ee67",
   "metadata": {},
   "outputs": [],
   "source": [
    "xc = idx.query(vector=emb_qx, top_k=2, include_metadata=True, filter={\"ner\": {\"$in\": ne}})\n"
   ]
  },
  {
   "cell_type": "code",
   "execution_count": 32,
   "id": "bd463938",
   "metadata": {},
   "outputs": [
    {
     "name": "stdout",
     "output_type": "stream",
     "text": [
      "0.322942764   ['Earth', 'Pekanbaru', 'Indonesia', 'Made', 'Weizmann Institute of Science', 'Israel', 'Nature', 'Human', 'Siak River', 'Barcroft Media / Getty Images']\n",
      "0.30353868   ['Space', 'Earth', 'Great Barrier Reef', 'Kessler Syndrome']\n"
     ]
    }
   ],
   "source": [
    "for result in xc['matches']:\n",
    "    print(result['score'], \" \", result['metadata']['ner'] )"
   ]
  },
  {
   "cell_type": "code",
   "execution_count": null,
   "id": "6d7b0576",
   "metadata": {},
   "outputs": [],
   "source": []
  }
 ],
 "metadata": {
  "kernelspec": {
   "display_name": "sap-ner",
   "language": "python",
   "name": "python3"
  },
  "language_info": {
   "codemirror_mode": {
    "name": "ipython",
    "version": 3
   },
   "file_extension": ".py",
   "mimetype": "text/x-python",
   "name": "python",
   "nbconvert_exporter": "python",
   "pygments_lexer": "ipython3",
   "version": "3.12.0"
  }
 },
 "nbformat": 4,
 "nbformat_minor": 5
}
